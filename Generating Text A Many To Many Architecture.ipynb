{
 "cells": [
  {
   "cell_type": "markdown",
   "metadata": {},
   "source": [
    "# Generating Text A Many To Many Architecture"
   ]
  },
  {
   "cell_type": "markdown",
   "metadata": {},
   "source": [
    "I will create and train a text generating model which will generate the next possible 50 words for a given sequence of 10 words."
   ]
  },
  {
   "cell_type": "markdown",
   "metadata": {},
   "source": [
    "### Steps for  text generating model. \n",
    "* Step-1:  Downloaded Gutenberg's Alice's Adventures in Wonderland dataset from https://www.gutenberg.org/files/11/11-0.txt.\n",
    "* Step-2:  Preprocess the text data to convert in lower case, and remove punctuation.\n",
    "* Step-3:  Assign an ID to each unique word and then convert the dataset into a sequence of word IDs.\n",
    "* Step-4:  Loop through the total dataset, 10 words at a time. Consider the 10 words as input and the subsequent 11th word as output. \n",
    "* Step-5:  Build and train a model, by performing embedding on top of the input word IDs and then connecting the embeddings to an LSTM, which is connected to the output layer through a hidden layer. The value in the output layer is the one-hot-encoded version of the output.\n",
    "* Step-6:  Make a prediction for the subsequent word by taking a random location of word and consider the historical words prior to the location of the random word chosen.\n",
    "* Step-7:  Move the window of the input words by one from the seed word's location that we chose earlier and the tenth time step word shall be the word that we predicted in the previous step.\n",
    "* Step-8  Continue this process to keep generating text."
   ]
  },
  {
   "cell_type": "markdown",
   "metadata": {},
   "source": [
    "Import the modules."
   ]
  },
  {
   "cell_type": "code",
   "execution_count": 1,
   "metadata": {},
   "outputs": [
    {
     "name": "stderr",
     "output_type": "stream",
     "text": [
      "Using TensorFlow backend.\n"
     ]
    }
   ],
   "source": [
    "import re\n",
    "import numpy as np\n",
    "from collections import Counter\n",
    "from keras.layers import LSTM\n",
    "from keras.models import Sequential\n",
    "from keras.layers import Dense,Activation"
   ]
  },
  {
   "cell_type": "code",
   "execution_count": 2,
   "metadata": {},
   "outputs": [],
   "source": [
    "fin=open('./data/11-0.txt',encoding='utf-8-sig')\n",
    "lines=[]\n",
    "for line in fin:\n",
    "    line = line.strip()\n",
    "    #line = line.strip().lower()\n",
    "    #line = line.decode(\"ascii\",\"ignore\")\n",
    "    if(len(line)==0):\n",
    "        continue\n",
    "    lines.append(line)\n",
    "fin.close()\n",
    "text = \" \".join(lines)"
   ]
  },
  {
   "cell_type": "markdown",
   "metadata": {},
   "source": [
    "A sample of the dataset looks as follows."
   ]
  },
  {
   "cell_type": "code",
   "execution_count": 3,
   "metadata": {},
   "outputs": [
    {
     "data": {
      "text/plain": [
       "'Project Gutenberg’s Alice’s Adventures in Wonderland, by Lewis Carroll This eBook is for the use of anyone anywhere at no cost and with almost no restrictions whatsoever.  You may copy it, give it awa'"
      ]
     },
     "execution_count": 3,
     "metadata": {},
     "output_type": "execute_result"
    }
   ],
   "source": [
    "text[0:200]"
   ]
  },
  {
   "cell_type": "markdown",
   "metadata": {},
   "source": [
    "Normalize the text to remove punctuations and convert it to lowercase."
   ]
  },
  {
   "cell_type": "code",
   "execution_count": 4,
   "metadata": {},
   "outputs": [],
   "source": [
    "text = text.lower()\n",
    "text = re.sub('[^0-9a-zA-Z]+',' ',text)"
   ]
  },
  {
   "cell_type": "markdown",
   "metadata": {},
   "source": [
    "A sample of the dataset looks as follows after Normalize the text."
   ]
  },
  {
   "cell_type": "code",
   "execution_count": 5,
   "metadata": {},
   "outputs": [
    {
     "data": {
      "text/plain": [
       "'project gutenberg s alice s adventures in wonderland by lewis carroll this ebook is for the use of anyone anywhere at no cost and with almost no restrictions whatsoever you may copy it give it away or'"
      ]
     },
     "execution_count": 5,
     "metadata": {},
     "output_type": "execute_result"
    }
   ],
   "source": [
    "text[0:200]"
   ]
  },
  {
   "cell_type": "markdown",
   "metadata": {},
   "source": [
    "Assign the unique words to an index so that they can be referenced when constructing the training and test datasets"
   ]
  },
  {
   "cell_type": "code",
   "execution_count": 6,
   "metadata": {},
   "outputs": [],
   "source": [
    "counts = Counter()\n",
    "counts.update(text.split())\n",
    "words = sorted(counts, key=counts.get, reverse=True)\n",
    "nb_words = len(text.split())\n",
    "word2index = {word: i for i, word in enumerate(words)}\n",
    "index2word = {i: word for i, word in enumerate(words)}"
   ]
  },
  {
   "cell_type": "markdown",
   "metadata": {},
   "source": [
    "Construct the input set of words that leads to an output word. \n",
    "* Note that I am considering a sequence of 10 words and trying to predict the 11th word."
   ]
  },
  {
   "cell_type": "code",
   "execution_count": 7,
   "metadata": {},
   "outputs": [
    {
     "name": "stdout",
     "output_type": "stream",
     "text": [
      "input words list:  \n",
      " ['project', 'gutenberg', 's', 'alice', 's', 'adventures', 'in', 'wonderland', 'by', 'lewis']\n",
      "label(output) words list:  \n",
      " carroll\n"
     ]
    }
   ],
   "source": [
    "SEQLEN = 10\n",
    "STEP = 1\n",
    "input_words = []\n",
    "label_words = []\n",
    "text2=text.split()\n",
    "for i in range(0,nb_words-SEQLEN,STEP):\n",
    "    x=text2[i:(i+SEQLEN)]\n",
    "    y=text2[i+SEQLEN]\n",
    "    input_words.append(x)\n",
    "    label_words.append(y)\n",
    "print('input words list: ','\\n',input_words[0])\n",
    "print('label(output) words list: ','\\n',label_words[0])"
   ]
  },
  {
   "cell_type": "markdown",
   "metadata": {},
   "source": [
    "* Note that input_words is a list of lists and the output_words list is not."
   ]
  },
  {
   "cell_type": "markdown",
   "metadata": {},
   "source": [
    "Construct the vectors of the input and the output datasets."
   ]
  },
  {
   "cell_type": "code",
   "execution_count": 8,
   "metadata": {},
   "outputs": [],
   "source": [
    "total_words = len(set(words))\n",
    "X = np.zeros((len(input_words), SEQLEN, total_words), dtype=np.bool)\n",
    "y = np.zeros((len(input_words), total_words), dtype=np.bool)"
   ]
  },
  {
   "cell_type": "markdown",
   "metadata": {},
   "source": [
    "I am creating empty arrays in the preceding step, which will be populated in the following code."
   ]
  },
  {
   "cell_type": "code",
   "execution_count": 9,
   "metadata": {},
   "outputs": [],
   "source": [
    "for i, input_word in enumerate(input_words):\n",
    "    for j, word in enumerate(input_word):\n",
    "        X[i, j, word2index[word]] = 1\n",
    "    y[i,word2index[label_words[i]]]=1"
   ]
  },
  {
   "cell_type": "markdown",
   "metadata": {},
   "source": [
    "In the preceding code \n",
    "* The first for loop is used to loop through all the words in the input sequence of words (10 words in input), and the second for loop is used to loop through an individual word in the chosen sequence of input words. \n",
    "* Additionally, given that the output is a list, I do not need to update it using the second for loop (as there is no sequence of IDs). \n",
    "\n",
    "The output shapes of X and y are as follows."
   ]
  },
  {
   "cell_type": "code",
   "execution_count": 10,
   "metadata": {},
   "outputs": [
    {
     "name": "stdout",
     "output_type": "stream",
     "text": [
      "Shape of X:  (30527, 10, 3043)\n",
      "Shape of y:  (30527, 3043)\n"
     ]
    }
   ],
   "source": [
    "print('Shape of X: ',X.shape)\n",
    "print('Shape of y: ',y.shape)"
   ]
  },
  {
   "cell_type": "markdown",
   "metadata": {},
   "source": [
    "Define the architecture of the model"
   ]
  },
  {
   "cell_type": "code",
   "execution_count": 11,
   "metadata": {},
   "outputs": [
    {
     "name": "stdout",
     "output_type": "stream",
     "text": [
      "WARNING:tensorflow:From C:\\Users\\maninaya\\Anaconda3\\envs\\maninaya\\lib\\site-packages\\tensorflow\\python\\framework\\op_def_library.py:263: colocate_with (from tensorflow.python.framework.ops) is deprecated and will be removed in a future version.\n",
      "Instructions for updating:\n",
      "Colocations handled automatically by placer.\n"
     ]
    }
   ],
   "source": [
    "HIDDEN_SIZE = 128\n",
    "BATCH_SIZE = 32\n",
    "NUM_ITERATIONS = 100\n",
    "NUM_EPOCHS_PER_ITERATION = 1\n",
    "NUM_PREDS_PER_EPOCH = 100\n",
    "model = Sequential()\n",
    "model.add(LSTM(HIDDEN_SIZE,return_sequences=False,input_shape=(SEQLEN,total_words)))\n",
    "model.add(Dense(total_words, activation='softmax'))\n",
    "model.compile(optimizer='adam', loss='categorical_crossentropy')"
   ]
  },
  {
   "cell_type": "markdown",
   "metadata": {},
   "source": [
    "A summary of the model is as follows."
   ]
  },
  {
   "cell_type": "code",
   "execution_count": 12,
   "metadata": {},
   "outputs": [
    {
     "name": "stdout",
     "output_type": "stream",
     "text": [
      "_________________________________________________________________\n",
      "Layer (type)                 Output Shape              Param #   \n",
      "=================================================================\n",
      "lstm_1 (LSTM)                (None, 128)               1624064   \n",
      "_________________________________________________________________\n",
      "dense_1 (Dense)              (None, 3043)              392547    \n",
      "=================================================================\n",
      "Total params: 2,016,611\n",
      "Trainable params: 2,016,611\n",
      "Non-trainable params: 0\n",
      "_________________________________________________________________\n"
     ]
    }
   ],
   "source": [
    "model.summary()"
   ]
  },
  {
   "cell_type": "code",
   "execution_count": 13,
   "metadata": {},
   "outputs": [
    {
     "data": {
      "text/plain": [
       "3052"
      ]
     },
     "execution_count": 13,
     "metadata": {},
     "output_type": "execute_result"
    }
   ],
   "source": [
    "int(len(input_words)*0.1)"
   ]
  },
  {
   "cell_type": "code",
   "execution_count": 14,
   "metadata": {},
   "outputs": [
    {
     "data": {
      "text/plain": [
       "30527"
      ]
     },
     "execution_count": 14,
     "metadata": {},
     "output_type": "execute_result"
    }
   ],
   "source": [
    "len(input_words)"
   ]
  },
  {
   "cell_type": "markdown",
   "metadata": {},
   "source": [
    "### Fit the model. \n",
    "Look at how the output varies over an increasing number of epochs. Generate a random set of sequences of 10 words and try to predict the next possible word. We are in a position to observe how our predictions are getting better over an increasing number of epochs."
   ]
  },
  {
   "cell_type": "markdown",
   "metadata": {},
   "source": [
    "* In the following code, I am fitting my model on input and output arrays for one epoch. \n",
    "* I am choosing a random seed word (test_idx – which is a random number that is among the last 10% of the input array (as validation_split is 0.1) and I am collecting the input words at a random location. \n",
    "* I am converting the input sequence of IDs into a one-hot-encoded version (thus obtaining an array that is 1 x 10 x total_words in shape).\n",
    "* Finally, making a prediction on the array I just created and obtain the word that has the highest probability."
   ]
  },
  {
   "cell_type": "code",
   "execution_count": 15,
   "metadata": {},
   "outputs": [
    {
     "name": "stdout",
     "output_type": "stream",
     "text": [
      "==================================================\n",
      "Iteration #: 0\n",
      "WARNING:tensorflow:From C:\\Users\\maninaya\\Anaconda3\\envs\\maninaya\\lib\\site-packages\\tensorflow\\python\\ops\\math_ops.py:3066: to_int32 (from tensorflow.python.ops.math_ops) is deprecated and will be removed in a future version.\n",
      "Instructions for updating:\n",
      "Use tf.cast instead.\n",
      "Train on 27474 samples, validate on 3053 samples\n",
      "Epoch 1/1\n",
      "27474/27474 [==============================] - 95s 3ms/step - loss: 6.2254 - val_loss: 8.2025\n",
      "Generating from seed: ['right', 'to', 'prevent', 'you', 'from', 'copying', 'distributing', 'performing', 'displaying', 'or']\n",
      "the the the the the the the the the the the the the the the the the the the the the the the the the the the the the the the the the the the the the the the the the the the the the the the the the the the the the the the the the the the the the the the the the the the the the the the the the the the the the the the the the the the the the the the the the the the the the the the the the the the the ==================================================\n",
      "Iteration #: 1\n",
      "Train on 27474 samples, validate on 3053 samples\n",
      "Epoch 1/1\n",
      "27474/27474 [==============================] - 90s 3ms/step - loss: 5.8673 - val_loss: 8.4716\n",
      "Generating from seed: ['e', '8', 'or', '1', 'e', '9', '1', 'e', '8', 'you']\n",
      "the and of the little of and the and and the little of and the and and the little of and the and and the little of and the and and the little of and the and and the little of and the and and the little of and the and and the little of and the and and the little of and the and and the little of and the and and the little of and the and and the little of and the and and the little of and the and and the little of and the and ==================================================\n",
      "Iteration #: 2\n",
      "Train on 27474 samples, validate on 3053 samples\n",
      "Epoch 1/1\n",
      "27474/27474 [==============================] - 94s 3ms/step - loss: 5.5410 - val_loss: 8.7473\n",
      "Generating from seed: ['copy', 'display', 'perform', 'distribute', 'or', 'redistribute', 'this', 'electronic', 'work', 'or']\n",
      "to the little of of the little of of the little of of the little of of the little of of the little of of the little of of the little of of the little of of the little of of the little of of the little of of the little of of the little of of the little of of the little of of the little of of the little of of the little of of the little of of the little of of the little of of the little of of the little of of the little of ==================================================\n",
      "Iteration #: 3\n",
      "Train on 27474 samples, validate on 3053 samples\n",
      "Epoch 1/1\n",
      "27474/27474 [==============================] - 83s 3ms/step - loss: 5.1721 - val_loss: 8.9050\n",
      "Generating from seed: ['information', 'about', 'the', 'project', 'gutenberg', 'literary', 'archive', 'foundation', 'the', 'project']\n",
      "of the rabbit and and the queen and was to the little of and she was to her and she was to her and she was to her and she was to her and she was to her and she was to her and she was to her and she was to her and she was to her and she was to her and she was to her and she was to her and she was to her and she was to her and she was to her and she was to her and she was to her and she ==================================================\n",
      "Iteration #: 4\n",
      "Train on 27474 samples, validate on 3053 samples\n",
      "Epoch 1/1\n",
      "27474/27474 [==============================] - 94s 3ms/step - loss: 4.8334 - val_loss: 8.9950\n",
      "Generating from seed: ['redistributing', 'project', 'gutenberg', 'tm', 'electronic', 'works', '1', 'a', 'by', 'reading']\n",
      "the queen and the queen and the queen and the queen was to the queen and the queen was to the little thing and the queen was to her and she was to her and she was to her and she was to her and she was to her and she was to her and she was to her and she was to her and she was to her and she was to her and she was to her and she was to her and she was to her and she was to her and she was to her and ==================================================\n",
      "Iteration #: 5\n",
      "Train on 27474 samples, validate on 3053 samples\n",
      "Epoch 1/1\n",
      "27474/27474 [==============================] - 91s 3ms/step - loss: 4.5053 - val_loss: 9.2701\n",
      "Generating from seed: ['work', 'in', 'any', 'country', 'outside', 'the', 'united', 'states', '1', 'e']\n",
      "the little thing and was a little deal and she had been to her feet and she was up and she was to her and she was up and she was to her and she was up and she was to her and she was up and she was to her and she was up and she was to her and she was up and she was to her and she was up and she was to her and she was up and she was to her and she was up and she was to her and she was up ==================================================\n",
      "Iteration #: 6\n",
      "Train on 27474 samples, validate on 3053 samples\n",
      "Epoch 1/1\n",
      "27474/27474 [==============================] - 80s 3ms/step - loss: 4.1810 - val_loss: 9.5477\n",
      "Generating from seed: ['or', 're', 'use', 'it', 'under', 'the', 'terms', 'of', 'the', 'project']\n",
      "gutenberg turtle and the white rabbit instantly and his eyes and she was a little deal and she went on to herself to the other of the other who was a little voice and the queen was on and the door and came up and the door and gloves to her as she was her as she found it was a little little and she was her and she found her and she found her and she found her as she was her and she found her as she was her and she found her as she was her and ==================================================\n",
      "Iteration #: 7\n",
      "Train on 27474 samples, validate on 3053 samples\n",
      "Epoch 1/1\n",
      "27474/27474 [==============================] - 78s 3ms/step - loss: 3.8521 - val_loss: 9.7097\n",
      "Generating from seed: ['permission', 'and', 'without', 'paying', 'copyright', 'royalties', 'special', 'rules', 'set', 'forth']\n",
      "to them and she was up and she was to her and she found her head as she was her as she went on to her and she was up and she went on to her as she went on to herself and she went on to herself and she tried to herself and she found it was quite to her she thought it as she was very much as she went on to her as she went on to herself and she went on to herself and she tried to herself and she found it was quite to her ==================================================\n",
      "Iteration #: 8\n",
      "Train on 27474 samples, validate on 3053 samples\n",
      "Epoch 1/1\n",
      "27474/27474 [==============================] - 142s 5ms/step - loss: 3.5255 - val_loss: 9.9237\n",
      "Generating from seed: ['remedies', 'for', 'negligence', 'strict', 'liability', 'breach', 'of', 'warranty', 'or', 'breach']\n",
      "the mock turtle in a voice tone and the white rabbit on in his voice and she looked up at the queen and the other of of the queen and was the other gardeners of the three gardeners on the three gardeners on their their slates for the mock turtle replied in the gryphon s voice and the mock turtle is to be a sigh i ve got to the cat i ve got to the cat i ve got to the cat i ve got to the cat i ve got to the cat i ve got to the ==================================================\n",
      "Iteration #: 9\n",
      "Train on 27474 samples, validate on 3053 samples\n",
      "Epoch 1/1\n",
      "27474/27474 [==============================] - 310s 11ms/step - loss: 3.2049 - val_loss: 10.0602\n",
      "Generating from seed: ['works', 'see', 'paragraph', '1', 'e', 'below', '1', 'c', 'the', 'project']\n",
      "as she said to alice and put up and up and then the little of little voice and the other gardeners of voice and the queen gardeners up and their heads on the other gardeners of their heads and the queen gardeners on their heads their heads and their slates and they were their heads their heads all the soldiers gardeners instantly soup soup of the soldiers were of the soldiers who came to the other of the queen who were all the three gardeners of the soldiers gardeners on are their heads you the soldiers gardeners on are you ==================================================\n",
      "Iteration #: 10\n",
      "Train on 27474 samples, validate on 3053 samples\n",
      "Epoch 1/1\n",
      "27474/27474 [==============================] - 192s 7ms/step - loss: 2.8830 - val_loss: 10.2675\n",
      "Generating from seed: ['with', 'the', 'defective', 'work', 'may', 'elect', 'to', 'provide', 'a', 'replacement']\n"
     ]
    },
    {
     "name": "stdout",
     "output_type": "stream",
     "text": [
      "said the king and she went on on her head to make it s coming and i m a little thing i ve said to the mock turtle but i m not so i can t you myself you know said the king and you are have you said the king who said to the jury who was not to do you you know you re been said the mock turtle but i m not up and then i m not i can t you said alice and i ve seen them a little thing said alice a deep tone ==================================================\n",
      "Iteration #: 11\n",
      "Train on 27474 samples, validate on 3053 samples\n",
      "Epoch 1/1\n",
      "27474/27474 [==============================] - 89s 3ms/step - loss: 2.5779 - val_loss: 10.4086\n",
      "Generating from seed: ['or', 'other', 'form', 'any', 'alternate', 'format', 'must', 'include', 'the', 'full']\n",
      "turtle chapter important the mock turtle is in a very tone with voice please your majesty said alice and as she went on her as she went on in the mock turtle in a great hurry and alice had been been of her feet and her feet down down up alice began to see the baby as it as she had made her arm arm in a little way but she felt that it was quite much and she had to her in her face as she had a little way and she felt out of it was all to ==================================================\n",
      "Iteration #: 12\n",
      "Train on 27474 samples, validate on 3053 samples\n",
      "Epoch 1/1\n",
      "27474/27474 [==============================] - 89s 3ms/step - loss: 2.2774 - val_loss: 10.5889\n",
      "Generating from seed: ['or', 'other', 'form', 'any', 'alternate', 'format', 'must', 'include', 'the', 'full']\n",
      "turtle below here a mock turtle but there s no use in them and all all a little glass of she was not like to her own she knew the little of in her hands and at once she felt a very deal growing off and you could to see as you see it was a long way to her but i ve got to alice so she felt that she had not quite growing and she was a little deal but it was at all to last she had a little little house and the rabbit s little small ==================================================\n",
      "Iteration #: 13\n",
      "Train on 27474 samples, validate on 3053 samples\n",
      "Epoch 1/1\n",
      "27474/27474 [==============================] - 91s 3ms/step - loss: 1.9969 - val_loss: 10.7929\n",
      "Generating from seed: ['paragraph', '1', 'e', '8', 'or', '1', 'e', '9', '1', 'e']\n",
      "who who looking at for i m some of course i know and then say do you don t know said alice and went on for a minute alice thought with her head so she went on in her face and she heard her great hurry and she had been out of her face and was like a little frame or she said her head began back in a low voice voice you would forget from from you don t have you can t said alice and i m a little thing i think you ll better it said the ==================================================\n",
      "Iteration #: 14\n",
      "Train on 27474 samples, validate on 3053 samples\n",
      "Epoch 1/1\n",
      "27474/27474 [==============================] - 96s 3ms/step - loss: 1.7274 - val_loss: 11.0351\n",
      "Generating from seed: ['help', 'preserve', 'free', 'future', 'access', 'to', 'project', 'gutenberg', 'tm', 'electronic']\n",
      "their while alice and made a body nervous about it at all said the gryphon he went on and added the mock turtle in an march hare and said the gryphon alice did not like the king said to her and in the shrill tone of the moment alice did not her and without her at once in a very hurry but she had been her arm into her face and she had that very much and she had to her whether it was good small so she had off as she as she had quite out of the way ==================================================\n",
      "Iteration #: 15\n",
      "Train on 27474 samples, validate on 3053 samples\n",
      "Epoch 1/1\n",
      "27474/27474 [==============================] - 146s 5ms/step - loss: 1.4877 - val_loss: 11.1658\n",
      "Generating from seed: ['defective', 'work', 'may', 'elect', 'to', 'provide', 'a', 'replacement', 'copy', 'in']\n",
      "a two is which it which a more more thing at the after after a moment all a little sharp now and she began to herself to herself but i ll hardly dinah i i wish i ll stay down down here i ll never almost enough their heads for i ever kick dinah more however she had not for a little of feet thought it again it was so or she had been for her face so she went off before she had out of a sort of way so you do you like better this next said the ==================================================\n",
      "Iteration #: 16\n",
      "Train on 27474 samples, validate on 3053 samples\n",
      "Epoch 1/1\n",
      "27474/27474 [==============================] - 212s 8ms/step - loss: 1.2652 - val_loss: 11.3897\n",
      "Generating from seed: ['an', 'individual', 'work', 'is', 'in', 'the', 'public', 'domain', 'in', 'the']\n",
      "soup soup soup of not much to do to other other who who was just to one remark for remark the whole of cards she could to be her in her in her head would go to her well i should think it s very much said alice i m afraid i ve been of the mouse replied rather rather i don t want to say said alice i don t think you might as it as it said the hatter i don t be impertinent said the hatter and repeated to begin with a little of voices said the ==================================================\n",
      "Iteration #: 17\n",
      "Train on 27474 samples, validate on 3053 samples\n",
      "Epoch 1/1\n",
      "27474/27474 [==============================] - 201s 7ms/step - loss: 1.0693 - val_loss: 11.5652\n",
      "Generating from seed: ['agreement', 'shall', 'not', 'void', 'the', 'remaining', 'provisions', '1', 'f', '6']\n",
      "the head and moved with alice was over to her she had been so about half before before she had found her way into the garden that she had gone to the door she had her in her hand goes in a large half half that everything that one one on he used up to the jury said said the gryphon and the trial is go in a minute or two which had the hookah out of her hand and stick a little in said the middle she had never been her time for a little before in her head ==================================================\n",
      "Iteration #: 18\n",
      "Train on 27474 samples, validate on 3053 samples\n",
      "Epoch 1/1\n",
      "27474/27474 [==============================] - 144s 5ms/step - loss: 0.8951 - val_loss: 11.7564\n",
      "Generating from seed: ['govern', 'what', 'you', 'can', 'do', 'with', 'this', 'work', 'copyright', 'laws']\n",
      "be a little of alice and her shoulder about in a moment she set herself to herself and everything was in the door hall expecting which down her feet again and alice but it could to see it was quite impossible and poor but she had to herself and as she had made her time she was upon her feet she was up and pulled hastily the morsel of the court was the first chapter chapter soup the day of course bill was what to do to you said the king don t be mad said alice that s got ==================================================\n",
      "Iteration #: 19\n",
      "Train on 27474 samples, validate on 3053 samples\n",
      "Epoch 1/1\n",
      "27474/27474 [==============================] - 78s 3ms/step - loss: 0.7434 - val_loss: 11.8661\n",
      "Generating from seed: ['to', 'donate', 'international', 'donations', 'are', 'gratefully', 'accepted', 'but', 'we', 'cannot']\n",
      "like here the same question in her as as she could get this there was another first of sight and then looked at alice but there was not room to her and feet up there was getting more for she kept out of sight and the end of the thought alice i wonder what would have to be of for i am to be better or i ll be so here again the queen will you come to look them and then it was too much that it doesn t know it s the first thing you know this said ==================================================\n",
      "Iteration #: 20\n",
      "Train on 27474 samples, validate on 3053 samples\n",
      "Epoch 1/1\n",
      "27474/27474 [==============================] - 78s 3ms/step - loss: 0.6130 - val_loss: 11.9653\n",
      "Generating from seed: ['can', 'copy', 'and', 'distribute', 'it', 'in', 'the', 'united', 'states', 'without']\n",
      "it was all this if i should have been changed in trouble can do i i m a little thing it said alice a long tone with the table when i seem to keep me down again you ll so here i ll never me me a little thing i m a serpent now i ve hardly sure i i m afraid i say say one one of the march words what said with the duchess she had grown half half to her about everything and cheshire after a poor and she went on to the same table as herself ==================================================\n",
      "Iteration #: 21\n",
      "Train on 27474 samples, validate on 3053 samples\n",
      "Epoch 1/1\n"
     ]
    },
    {
     "name": "stdout",
     "output_type": "stream",
     "text": [
      "27474/27474 [==============================] - 83s 3ms/step - loss: 0.4961 - val_loss: 12.1843\n",
      "Generating from seed: ['owns', 'a', 'united', 'states', 'copyright', 'in', 'these', 'works', 'so', 'the']\n",
      "baby are out of the air as it is to it again child corner a tie of this there they couldn t seem upon nine nine book in it s pictures so far now at this moment and it away made it away but she was not a fancy that i had that it no be no doubt you may much it too far so much yet you know what he said to alice asked with a low voice it s not evidence remarks cried said alice and not her very repeat but said alice s a long dream of ==================================================\n",
      "Iteration #: 22\n",
      "Train on 27474 samples, validate on 3053 samples\n",
      "Epoch 1/1\n",
      "27474/27474 [==============================] - 79s 3ms/step - loss: 0.4046 - val_loss: 12.3187\n",
      "Generating from seed: ['newby', 'chief', 'executive', 'and', 'director', 'gbnewby', 'pglaf', 'org', 'section', '4']\n",
      "the hot s voice of the mock turtle and his nose made a whiting below the mouse what what you are are you said the youth shouted i m not not as you said alice i don t be said in a minute tone two i gave it then even said alice politely not a great question said alice who was a very high of course thought alice said the mouse s very clear tone that one of course now said alice rather forgetting and the words said to alice as she set to herself anything again and the garden ==================================================\n",
      "Iteration #: 23\n",
      "Train on 27474 samples, validate on 3053 samples\n",
      "Epoch 1/1\n",
      "27474/27474 [==============================] - 80s 3ms/step - loss: 0.3270 - val_loss: 12.4168\n",
      "Generating from seed: ['provided', 'to', 'you', 'as', 'is', 'with', 'no', 'other', 'warranties', 'of']\n",
      "said said the mouse nothing rather answer the hatter can t it yet how yet go on where can i think you can t explain it as she added for and must a game on stop to play just as you say with you can t how like it might to you it said to the and then repeated me alice i ll let again me me there is such a little of thing it s no certainly certainly said alice and hastily in a rabbit before she heard herself out into to garden the way i see say as ==================================================\n",
      "Iteration #: 24\n",
      "Train on 27474 samples, validate on 3053 samples\n",
      "Epoch 1/1\n",
      "27474/27474 [==============================] - 111s 4ms/step - loss: 0.2639 - val_loss: 12.5053\n",
      "Generating from seed: ['work', 'is', 'discovered', 'and', 'reported', 'to', 'you', 'within', '90', 'days']\n",
      "then the house and then did and stopped like say it puffed mad but cried all the book pattering on feet up so she sat down again her hands so well as it went on if you haven t done either so she said this must must you like a hurried child but what a good deal to begin said this well i must have got to be true at this that must the next would not too of the mouse go to herself down the king and out of a melancholy way come to alice which all took the ==================================================\n",
      "Iteration #: 25\n",
      "Train on 27474 samples, validate on 3053 samples\n",
      "Epoch 1/1\n",
      "27474/27474 [==============================] - 219s 8ms/step - loss: 0.2076 - val_loss: 12.6242\n",
      "Generating from seed: ['paid', 'for', 'it', 'by', 'sending', 'a', 'written', 'explanation', 'to', 'the']\n",
      "from there was hardly talking there i no another tea tea if he had all had so nose then s an foot close for this said this hastily very turned but she walked looking at the dormouse wondering of what as do say it and do you it off to leave with with such as dear drink now but this and it was large sobbing that it was looking to speak to to herself again you play of said the with a melancholy tone just t have out of the way and then i nothing of the march hare said ==================================================\n",
      "Iteration #: 26\n",
      "Train on 27474 samples, validate on 3053 samples\n",
      "Epoch 1/1\n",
      "27474/27474 [==============================] - 213s 8ms/step - loss: 0.1671 - val_loss: 12.7555\n",
      "Generating from seed: ['collection', 'of', 'project', 'gutenberg', 'tm', 'electronic', 'works', 'nearly', 'all', 'the']\n",
      "and hastily at this moment coming large quite seem with another three of near in bill old bit said the mock turtle to your majesty cross yes what a very sigh is said the duchess and s moral of that is you only and she had read to them them or what they had had think that they re like to be so she said the door looked generally it that then was right much enough that said but alice only been nothing written been by the way up so here they they settled running by the cook said off ==================================================\n",
      "Iteration #: 27\n",
      "Train on 27474 samples, validate on 3053 samples\n",
      "Epoch 1/1\n",
      "27474/27474 [==============================] - 157s 6ms/step - loss: 0.1405 - val_loss: 12.7721\n",
      "Generating from seed: ['medium', 'a', 'computer', 'virus', 'or', 'computer', 'codes', 'that', 'damage', 'or']\n",
      "alice said to have you would you do said the mouse who with a low way to night me is that the same thing as like with the door i make you something something as she said the hatter to the the rabbit on one march always put on his head and added with a great way you me what a long thing you know said the caterpillar alice was going to see this everything as long just as if you could her waited dinah their pig i ve not forgotten in a low hurry rather never right going talking ==================================================\n",
      "Iteration #: 28\n",
      "Train on 27474 samples, validate on 3053 samples\n",
      "Epoch 1/1\n",
      "27474/27474 [==============================] - 89s 3ms/step - loss: 0.1133 - val_loss: 12.9133\n",
      "Generating from seed: ['this', 'project', 'gutenberg', 'tm', 'electronic', 'work', 'you', 'indicate', 'that', 'you']\n",
      "the croquet day the king and made the little pattering of the however she knew up and in a little way of her hands so she how far to make things things and till she went on half quite see that she was about in a few time just had herself this a queer of had made a little of leaves which a few indeed indeed said the caterpillar of a line there were the little party between on from their history were the history two you don t said him i mean say you tell you mean if i ==================================================\n",
      "Iteration #: 29\n",
      "Train on 27474 samples, validate on 3053 samples\n",
      "Epoch 1/1\n",
      "27474/27474 [==============================] - 88s 3ms/step - loss: 0.0895 - val_loss: 12.9648\n",
      "Generating from seed: ['the', 'work', 'you', 'comply', 'with', 'all', 'other', 'terms', 'of', 'this']\n",
      "while the queen had only having made of a nice or voice what they have done said with i don t know it more much very much said to your but the knave saying as it as it could be arm hot oh all looking out for then people the queen paw remark and an excellent first first next next it the next came the rabbit s crimson in reply it goes a arm off the tea and without him what you all all more said the caterpillar here the queen don t even know about look at all again ==================================================\n",
      "Iteration #: 30\n",
      "Train on 27474 samples, validate on 3053 samples\n",
      "Epoch 1/1\n",
      "27474/27474 [==============================] - 88s 3ms/step - loss: 0.0893 - val_loss: 13.0712\n",
      "Generating from seed: ['a', 'copy', 'or', 'a', 'means', 'of', 'obtaining', 'a', 'copy', 'upon']\n",
      "all the subject of being of these with the queen makes rather rather not but a snail for it and very up and had not a violent sort of her glass as see see see some birds that one seemed she got no one of the door as out as she could ever out of them natural down i to think said see you you suppose or must the dance or you can have you will t you how you know see you re moving why continued said the duchess the queen won t a watch of me cats it ==================================================\n",
      "Iteration #: 31\n",
      "Train on 27474 samples, validate on 3053 samples\n",
      "Epoch 1/1\n",
      "27474/27474 [==============================] - 82s 3ms/step - loss: 0.0923 - val_loss: 13.1125\n",
      "Generating from seed: ['with', 'all', 'other', 'terms', 'of', 'this', 'agreement', 'for', 'free', 'distribution']\n"
     ]
    },
    {
     "name": "stdout",
     "output_type": "stream",
     "text": [
      "one end across they were other voice off which silence that cheered the dormouse had made of them of her own i so think to be herself this a good size off as together happened oh to speak to alice again a minute she began to made the next house she was having seen against a few of day just just heard a little sure but she s too back to the end chapter that the trial day in that s very got to alice but the opportunity for making quite quite out of sight and that i wish i ==================================================\n",
      "Iteration #: 32\n",
      "Train on 27474 samples, validate on 3053 samples\n",
      "Epoch 1/1\n",
      "27474/27474 [==============================] - 77s 3ms/step - loss: 0.0664 - val_loss: 13.1606\n",
      "Generating from seed: ['of', 'this', 'agreement', 'for', 'keeping', 'the', 'project', 'gutenberg', 'tm', 'name']\n",
      "the most turtle is alice i don t know his before she did not even down at the garden where poor see the dormouse happens in the earth again for there could be get to suddenly feet bread it was and now out out sight more rather more than of you are old said the youth to the words has are paws and we am do do do let go on me here said twenty as if you d wouldn round the number there is no no no first first first was really we we we suppose our them to ==================================================\n",
      "Iteration #: 33\n",
      "Train on 27474 samples, validate on 3053 samples\n",
      "Epoch 1/1\n",
      "27474/27474 [==============================] - 79s 3ms/step - loss: 0.0378 - val_loss: 13.2317\n",
      "Generating from seed: ['with', 'others', '1', 'd', 'the', 'copyright', 'laws', 'of', 'the', 'place']\n",
      "is a gryphon hollow of broken from the gryphon asked this in that she was not to go down down in her hands never heard they would have to her since the queen said the hatter with the white voice and alice confusion nothing first into its head and she was it a table upon it a few minutes and she felt that it yet no no go first thought alice as it might be no kind of cards thought alice i m afraid of the same thing such a little thing with a whiting s something tale now said ==================================================\n",
      "Iteration #: 34\n",
      "Train on 27474 samples, validate on 3053 samples\n",
      "Epoch 1/1\n",
      "27474/27474 [==============================] - 176s 6ms/step - loss: 0.0513 - val_loss: 13.2236\n",
      "Generating from seed: ['full', 'project', 'gutenberg', 'tm', 'license', 'you', 'must', 'require', 'such', 'a']\n",
      "word turtle or sobs sit him her sit down with one of with one finger and some some trying the party bit every but the hatter don t give all less in day why he did they all live from tarts with a or more of a little of the house what it made a natural way but the cook would be so over over the other feeling her she knew to look it out herself who s got as she said alice this word and an got until to herself talking in herself usual out so feet feet she ==================================================\n",
      "Iteration #: 35\n",
      "Train on 27474 samples, validate on 3053 samples\n",
      "Epoch 1/1\n",
      "27474/27474 [==============================] - 203s 7ms/step - loss: 0.1195 - val_loss: 13.3016\n",
      "Generating from seed: ['of', 'public', 'domain', 'and', 'licensed', 'works', 'that', 'can', 'be', 'freely']\n",
      "than it a very nervous or either you the reason said on the caterpillar so they could the first question of its head then or at it in a world tone tea it s my clock so my while came came in his hat pocket mine and a mouse said alice in the continued s a tone of fact just just as well say it was dreadfully with a large kitchen but a was of it marked her to be a little glass near and she was ready to having all among a bit and began upon one out of ==================================================\n",
      "Iteration #: 36\n",
      "Train on 27474 samples, validate on 3053 samples\n",
      "Epoch 1/1\n",
      "27474/27474 [==============================] - 222s 8ms/step - loss: 0.0346 - val_loss: 13.3670\n",
      "Generating from seed: ['loose', 'network', 'of', 'volunteer', 'support', 'project', 'gutenberg', 'tm', 'ebooks', 'are']\n",
      "in a serpent cried alice shall no use use do anything like the some box in its confusion i serpents wish they re pleased i i do him you know all your your shall said said alice who s well well the queen s said the rabbit who was not before but do nothing back to the rabbit but it was to go alice when she found it was large natural left but she was but she found it was only surprised to find that she remembered her so so half the in in an hour or besides there seemed ==================================================\n",
      "Iteration #: 37\n",
      "Train on 27474 samples, validate on 3053 samples\n",
      "Epoch 1/1\n",
      "27474/27474 [==============================] - 85s 3ms/step - loss: 0.0206 - val_loss: 13.4028\n",
      "Generating from seed: ['be', 'found', 'at', 'the', 'foundation', 's', 'web', 'site', 'and', 'official']\n",
      "how how again they alice now about it to no no plan so ever oh ever got by my life now i wonder knew she knew what that must the room of me so she began in a few of again besides there was quite a long cat so by said alice one of nothing i can t say that she said on the mouse who is ready to do you person for sorts of them time round them this time no the whole bottle was close in a moment are it would never thought alice the mouse of such ==================================================\n",
      "Iteration #: 38\n",
      "Train on 27474 samples, validate on 3053 samples\n",
      "Epoch 1/1\n",
      "27474/27474 [==============================] - 76s 3ms/step - loss: 0.0129 - val_loss: 13.4033\n",
      "Generating from seed: ['is', 'in', 'the', 'public', 'domain', 'in', 'the', 'united', 'states', 'and']\n",
      "put his head to the dormouse he kept behind watch the white rabbit not a just at for she began this herself in a natural little but she had not like to like to meaning that she was more about then said and the mouse s an idea for that was a good deal and said to herself but there would not no for any pepper said alice that it would so as well as well as if i can t her just at if i am i like you like that right it said the mouse the white rabbit ==================================================\n",
      "Iteration #: 39\n",
      "Train on 27474 samples, validate on 3053 samples\n",
      "Epoch 1/1\n",
      "27474/27474 [==============================] - 77s 3ms/step - loss: 0.0996 - val_loss: 13.4063\n",
      "Generating from seed: ['project', 'gutenberg', 'literary', 'archive', 'foundation', 'are', 'tax', 'deductible', 'to', 'the']\n",
      "jury i can only put of them would do would be too safe out like a whiting well she said alice you mean even the cause of expecting and this last it was this moment she found out of the righthand little key and like it too certainly not not at anything but at all all her right so she went on after such long curious before i i shall have myself them again you said poor alice asked it would not be very politely for i know who would put at this however said this minute i wouldn t ==================================================\n",
      "Iteration #: 41\n",
      "Train on 27474 samples, validate on 3053 samples\n",
      "Epoch 1/1\n",
      " 4512/27474 [===>..........................] - ETA: 1:01 - loss: 0.0279is all more going she d do the gryphon in in a voice voice to day with you like as the bit about to begin said the hatter the king just who ==================================================\n",
      "Iteration #: 42\n",
      "Train on 27474 samples, validate on 3053 samples\n",
      "Epoch 1/1\n",
      "27474/27474 [==============================] - 77s 3ms/step - loss: 0.0132 - val_loss: 13.4523\n",
      "Generating from seed: ['tm', 'work', 'any', 'work', 'on', 'which', 'the', 'phrase', 'project', 'gutenberg']\n",
      "with her alice with alice s full and by her time those dears she s still it was was very large she came near the queen till the queen s what out all two evidence said the king indignantly if you don t the dance said the hatter with a watch half out that what it nothing over alice and alice well do very curious the rabbit oh what is alice thought alice to be its sharp up to ask and as see as it as it was far down a natural way i don t know said to say ==================================================\n",
      "Iteration #: 43\n",
      "Train on 27474 samples, validate on 3053 samples\n",
      "Epoch 1/1\n",
      "27474/27474 [==============================] - 122s 4ms/step - loss: 0.0111 - val_loss: 13.4606\n",
      "Generating from seed: ['and', 'all', 'associated', 'files', 'of', 'various', 'formats', 'will', 'be', 'found']\n"
     ]
    },
    {
     "name": "stdout",
     "output_type": "stream",
     "text": [
      "if they had manage enough when they had the kind of bread and quietly made off at feet and the dodo began change it things let the jury of it is the mock turtle is sing you said from father how to have the tarts the little for instance it s always different such in a pool and there with her time she was upon a cheshire more alice to feel in at very before but she had a little bottle that it s certainly indeed not said to alice why why it was a very rule after me and ==================================================\n",
      "Iteration #: 44\n",
      "Train on 27474 samples, validate on 3053 samples\n",
      "Epoch 1/1\n",
      "27474/27474 [==============================] - 199s 7ms/step - loss: 0.0088 - val_loss: 13.5365\n",
      "Generating from seed: ['federal', 'laws', 'and', 'your', 'state', 's', 'laws', 'the', 'foundation', 's']\n",
      "on on all the little word and there s too too close to stay down however she waited in her time close come at direction it might she found a very way of of after alice thought she could herself it and by the garden little little and taking wonder nothing back to the next i can t be the mock turtle went on you know with the words and in silence in the a voice of this there thought all all first more about it away no first they remarked what said the queen you take take the nervous ==================================================\n",
      "Iteration #: 45\n",
      "Train on 27474 samples, validate on 3053 samples\n",
      "Epoch 1/1\n",
      "27474/27474 [==============================] - 219s 8ms/step - loss: 0.1253 - val_loss: 13.4766\n",
      "Generating from seed: ['at', 'our', 'web', 'site', 'which', 'has', 'the', 'main', 'pg', 'search']\n",
      "an old figure of the gryphon s head to do it to be out of people so people way she by that she was narrow to their by that time very dull the same now making only to go to any rate it further so quite shall a little sleep of its didn t see next day i m more said alice rather alarmed better the mile said the mock turtle alice s both adventures replied said alice who s only evidence but the distance so seemed to begin with a conversation of sort of all something something something try ==================================================\n",
      "Iteration #: 46\n",
      "Train on 27474 samples, validate on 3053 samples\n",
      "Epoch 1/1\n",
      "27474/27474 [==============================] - 154s 6ms/step - loss: 0.0671 - val_loss: 13.5039\n",
      "Generating from seed: ['produce', 'our', 'new', 'ebooks', 'and', 'how', 'to', 'subscribe', 'to', 'our']\n",
      "as as it said the duchess with an march hare though said alice like it very much round she asked she must her two very advice and and after solemnly all how there is them arm and tea when it put them over if they had not like her right so did she s of her feet look out at the other who was got up and box every almost her other side and the carried she said the air who had been for this writing of them and off with alice began when she was down and she heard ==================================================\n",
      "Iteration #: 47\n",
      "Train on 27474 samples, validate on 3053 samples\n",
      "Epoch 1/1\n",
      "27474/27474 [==============================] - 79s 3ms/step - loss: 0.0155 - val_loss: 13.6367\n",
      "Generating from seed: ['to', 'the', 'project', 'gutenberg', 'literary', 'archive', 'foundation', 'royalty', 'payments', 'must']\n",
      "its turn come getting at him him s t such time puzzled with one tea of but and alice was too much to find that she said to herself and she sat for and large open holding in it footman in her feet high this time little open the opportunity on read it seemed at all at least she got so and in her way as she had put it she noticed and had noticed that curious head was like about it said the mock turtle very very little said alice waited not her very ready to tell the little ==================================================\n",
      "Iteration #: 48\n",
      "Train on 27474 samples, validate on 3053 samples\n",
      "Epoch 1/1\n",
      "27474/27474 [==============================] - 76s 3ms/step - loss: 0.0077 - val_loss: 13.5940\n",
      "Generating from seed: ['full', 'project', 'gutenberg', 'tm', 'license', 'available', 'with', 'this', 'file', 'or']\n",
      "afraid or or mind them was head simple house i like like a simple she were made out out then what they must be changed half either i ve tried to mad the pigeon as off as you said the hatter how looking up them and how give the things he made to she what was coming else the cat had won t had never happened for get felt that fear i one been side through the three way out the door of her way to come when the sky was near she was to herself and she set to ==================================================\n",
      "Iteration #: 49\n",
      "Train on 27474 samples, validate on 3053 samples\n",
      "Epoch 1/1\n",
      "27474/27474 [==============================] - 76s 3ms/step - loss: 0.0060 - val_loss: 13.6183\n",
      "Generating from seed: ['creating', 'derivative', 'works', 'based', 'on', 'the', 'work', 'as', 'long', 'as']\n",
      "at the the things oh kept to be everything as she ll it when she turned over and the mouse what was very much of the mouse to tell it would have a very interesting dance much said alice feeling to very glad do it was to be again i suppose so she said looking up but begins the words of his eyes i never t so him said alice with your two said what he said the little tree it was over the dormouse feeling very been so to come on that one the then said alice that s "
     ]
    }
   ],
   "source": [
    "for iteration in range(50):\n",
    "    print(\"=\" * 50)\n",
    "    print(\"Iteration #: %d\" % (iteration))\n",
    "    model.fit(X, y, batch_size=BATCH_SIZE, epochs=NUM_EPOCHS_PER_ITERATION, validation_split = 0.1)\n",
    "    test_idx = np.random.randint(int(len(input_words)*0.1)) * (-1)\n",
    "    test_words = input_words[test_idx]\n",
    "    print(\"Generating from seed: %s\" % (test_words))\n",
    "    for i in range(NUM_PREDS_PER_EPOCH):        \n",
    "        Xtest = np.zeros((1, SEQLEN, total_words))\n",
    "        for i, ch in enumerate(test_words):\n",
    "            Xtest[0, i, word2index[ch]] = 1\n",
    "        pred = model.predict(Xtest, verbose=0)[0]\n",
    "        ypred = index2word[np.argmax(pred)]\n",
    "        print(ypred,end=' ')\n",
    "        test_words = test_words[1:] + [ypred]"
   ]
  },
  {
   "cell_type": "code",
   "execution_count": null,
   "metadata": {},
   "outputs": [],
   "source": []
  }
 ],
 "metadata": {
  "kernelspec": {
   "display_name": "Python 3",
   "language": "python",
   "name": "python3"
  },
  "language_info": {
   "codemirror_mode": {
    "name": "ipython",
    "version": 3
   },
   "file_extension": ".py",
   "mimetype": "text/x-python",
   "name": "python",
   "nbconvert_exporter": "python",
   "pygments_lexer": "ipython3",
   "version": "3.7.3"
  }
 },
 "nbformat": 4,
 "nbformat_minor": 2
}
